{
  "nbformat": 4,
  "nbformat_minor": 0,
  "metadata": {
    "colab": {
      "provenance": [],
      "authorship_tag": "ABX9TyNHgWzJKBn0q+acghmOtuyT",
      "include_colab_link": true
    },
    "kernelspec": {
      "name": "python3",
      "display_name": "Python 3"
    },
    "language_info": {
      "name": "python"
    }
  },
  "cells": [
    {
      "cell_type": "markdown",
      "metadata": {
        "id": "view-in-github",
        "colab_type": "text"
      },
      "source": [
        "<a href=\"https://colab.research.google.com/github/usman-khan-0/gittutorial/blob/main/Practice_Modules.ipynb\" target=\"_parent\"><img src=\"https://colab.research.google.com/assets/colab-badge.svg\" alt=\"Open In Colab\"/></a>"
      ]
    },
    {
      "cell_type": "code",
      "execution_count": null,
      "metadata": {
        "colab": {
          "base_uri": "https://localhost:8080/"
        },
        "id": "pNlu9lJhNbmW",
        "outputId": "4cfa8b71-f14c-4f7e-bfff-d9def6e1d304"
      },
      "outputs": [
        {
          "output_type": "stream",
          "name": "stdout",
          "text": [
            "  3           0 RESUME                   0\n",
            "\n",
            "  4           2 LOAD_CONST               1 ('Hello')\n",
            "              4 RETURN_VALUE\n"
          ]
        }
      ],
      "source": [
        "import dis\n",
        "\n",
        "def greet():\n",
        "    return \"Hello\"\n",
        "\n",
        "dis.dis(greet)"
      ]
    },
    {
      "cell_type": "code",
      "source": [
        "def add(a, b):\n",
        "    return a + b\n",
        "\n",
        "dis.dis(add)"
      ],
      "metadata": {
        "colab": {
          "base_uri": "https://localhost:8080/"
        },
        "id": "5iSItP6kNuuG",
        "outputId": "c716394d-7b42-4c34-bb64-4fea4c6b4c4d"
      },
      "execution_count": null,
      "outputs": [
        {
          "output_type": "stream",
          "name": "stdout",
          "text": [
            "  1           0 RESUME                   0\n",
            "\n",
            "  2           2 LOAD_FAST                0 (a)\n",
            "              4 LOAD_FAST                1 (b)\n",
            "              6 BINARY_OP                0 (+)\n",
            "             10 RETURN_VALUE\n"
          ]
        }
      ]
    },
    {
      "cell_type": "code",
      "source": [
        "def check(x):\n",
        "    if x > 0:\n",
        "        return \"Positive\"\n",
        "    else:\n",
        "        return \"Non-positive\"\n",
        "\n",
        "dis.dis(check)"
      ],
      "metadata": {
        "colab": {
          "base_uri": "https://localhost:8080/"
        },
        "id": "ZHDKYJ-oOCps",
        "outputId": "75a4c447-cdd6-47bd-a2ad-27505d2aba87"
      },
      "execution_count": null,
      "outputs": [
        {
          "output_type": "stream",
          "name": "stdout",
          "text": [
            "  1           0 RESUME                   0\n",
            "\n",
            "  2           2 LOAD_FAST                0 (x)\n",
            "              4 LOAD_CONST               1 (0)\n",
            "              6 COMPARE_OP               4 (>)\n",
            "             12 POP_JUMP_FORWARD_IF_FALSE     2 (to 18)\n",
            "\n",
            "  3          14 LOAD_CONST               2 ('Positive')\n",
            "             16 RETURN_VALUE\n",
            "\n",
            "  5     >>   18 LOAD_CONST               3 ('Non-positive')\n",
            "             20 RETURN_VALUE\n"
          ]
        }
      ]
    },
    {
      "cell_type": "code",
      "source": [
        "def loop_example():\n",
        "    for i in range(3):\n",
        "        print(i)\n",
        "\n",
        "dis.dis(loop_example)"
      ],
      "metadata": {
        "colab": {
          "base_uri": "https://localhost:8080/"
        },
        "id": "tNGnMACAOF5-",
        "outputId": "008aa55d-f935-4f97-97eb-ff27408173a1"
      },
      "execution_count": null,
      "outputs": [
        {
          "output_type": "stream",
          "name": "stdout",
          "text": [
            "  1           0 RESUME                   0\n",
            "\n",
            "  2           2 LOAD_GLOBAL              1 (NULL + range)\n",
            "             14 LOAD_CONST               1 (3)\n",
            "             16 PRECALL                  1\n",
            "             20 CALL                     1\n",
            "             30 GET_ITER\n",
            "        >>   32 FOR_ITER                17 (to 68)\n",
            "             34 STORE_FAST               0 (i)\n",
            "\n",
            "  3          36 LOAD_GLOBAL              3 (NULL + print)\n",
            "             48 LOAD_FAST                0 (i)\n",
            "             50 PRECALL                  1\n",
            "             54 CALL                     1\n",
            "             64 POP_TOP\n",
            "             66 JUMP_BACKWARD           18 (to 32)\n",
            "\n",
            "  2     >>   68 LOAD_CONST               0 (None)\n",
            "             70 RETURN_VALUE\n"
          ]
        }
      ]
    },
    {
      "cell_type": "code",
      "source": [
        "s = {1, 2}\n",
        "s.update([3, 4])\n",
        "print(s)\n",
        "\n",
        "s.remove(2)\n",
        "print(s)\n",
        "\n",
        "s.discard(4)\n",
        "print(s)\n",
        "\n",
        "a = {4, 10, 7, 3, 8}\n",
        "a.pop()\n",
        "print(a)\n",
        "\n",
        "s.clear()\n",
        "print(s)"
      ],
      "metadata": {
        "colab": {
          "base_uri": "https://localhost:8080/"
        },
        "id": "a9IZAs6JSC0q",
        "outputId": "f64fd106-d837-425d-c930-dfb781bb65f4"
      },
      "execution_count": null,
      "outputs": [
        {
          "output_type": "stream",
          "name": "stdout",
          "text": [
            "{1, 2, 3, 4}\n",
            "{1, 3, 4}\n",
            "{1, 3}\n",
            "{4, 7, 8, 10}\n",
            "set()\n"
          ]
        }
      ]
    },
    {
      "cell_type": "code",
      "source": [
        "s1 = {1, 2, 3}\n",
        "s1 = s2\n",
        "print(s2)  # Output: {1, 2, 3}\n",
        "print(s1 is s2)  # Output: False\n",
        "print(s2 == s1)\n",
        "s1.add(7)\n",
        "s2.add(9)\n",
        "print(s1)\n",
        "print(s2)\n",
        "\n",
        "a = {1, 2}\n",
        "b = {2, 3}\n",
        "print(a.union(b))  # Output: {1, 2, 3}\n",
        "\n",
        "a = {1, 2, 3}\n",
        "b = {2, 3, 4}\n",
        "print(a.intersection(b))  # Output: {2, 3}\n",
        "\n",
        "a = {1, 2, 3}\n",
        "b = {2, 3, 4}\n",
        "print(a.difference(b))  # Output: {1}\n",
        "\n",
        "a = {1, 2, 3}\n",
        "b = {3, 4, 5}\n",
        "print(a.symmetric_difference(b))  # Output: {1, 2, 4, 5}\n",
        "\n",
        "a = {1, 2}\n",
        "b = {1, 2, 3}\n",
        "print(b.issubset(a))  # Output: True\n",
        "\n",
        "a = {1, 2, 3}\n",
        "b = {1, 2}\n",
        "print(a.issuperset(b))  # Output: True\n",
        "\n",
        "a = {1, 2}\n",
        "b = {3, 4}\n",
        "print(a.isdisjoint(b))  # Output: True\n",
        "\n",
        "s = {10, 20, 20, 30, 10, 30}\n",
        "print(len(s))  # Output: 3"
      ],
      "metadata": {
        "colab": {
          "base_uri": "https://localhost:8080/"
        },
        "id": "BUmpi3QYSsIr",
        "outputId": "220fc340-c7d1-4886-edbb-fe5e4ab53dea"
      },
      "execution_count": null,
      "outputs": [
        {
          "output_type": "stream",
          "name": "stdout",
          "text": [
            "{1, 2, 3, 7, 9}\n",
            "True\n",
            "True\n",
            "{1, 2, 3, 7, 9}\n",
            "{1, 2, 3, 7, 9}\n",
            "{1, 2, 3}\n",
            "{2, 3}\n",
            "{1}\n",
            "{1, 2, 4, 5}\n",
            "False\n",
            "True\n",
            "True\n",
            "3\n"
          ]
        }
      ]
    },
    {
      "cell_type": "code",
      "source": [
        "list1 = [1, 2, 2, 3, 2, 4]\n",
        "dict1 = {\"a\": 1, \"b\": 2, \"c\": 3, \"b\": 1, \"c\": 5}\n",
        "tuple1 = (1, 2, 3, 2, 4)\n",
        "set1 = {1, 2, 3, 2, 3, 4, 5}\n",
        "\n",
        "print(list1)\n",
        "print(dict1)\n",
        "print(tuple1)\n",
        "print(set1)\n",
        "print(len(list1))\n",
        "print(len(dict1))\n",
        "print(len(tuple1))\n",
        "print(len(set1))"
      ],
      "metadata": {
        "colab": {
          "base_uri": "https://localhost:8080/"
        },
        "id": "u9oPWpc_Tr9R",
        "outputId": "019c3eb8-6345-4348-8b39-b231427064ce"
      },
      "execution_count": null,
      "outputs": [
        {
          "output_type": "stream",
          "name": "stdout",
          "text": [
            "[1, 2, 2, 3, 2, 4]\n",
            "{'a': 1, 'b': 1, 'c': 5}\n",
            "(1, 2, 3, 2, 4)\n",
            "{1, 2, 3, 4, 5}\n",
            "6\n",
            "3\n",
            "5\n",
            "5\n"
          ]
        }
      ]
    },
    {
      "cell_type": "code",
      "source": [
        "d = {\"x\": 10, \"y\": 20}\n",
        "print(d.keys())  # Output: dict_keys(['x', 'y'])\n",
        "\n",
        "print(d.values())  # Output: dict_values([10, 20])\n",
        "\n",
        "print(d.items())  # Output: dict_items([('x', 10), ('y', 20)])\n",
        "\n",
        "d = {\"a\": 1}\n",
        "d.setdefault(\"b\", 2)\n",
        "print(d)  # Output: {'a': 1, 'b': 2}\n"
      ],
      "metadata": {
        "id": "pMzsbpA-V2i0"
      },
      "execution_count": null,
      "outputs": []
    }
  ]
}