{
  "nbformat": 4,
  "nbformat_minor": 0,
  "metadata": {
    "colab": {
      "provenance": [],
      "gpuType": "T4",
      "authorship_tag": "ABX9TyP5WHJWq6ajsvuvvxK5J8V0",
      "include_colab_link": true
    },
    "kernelspec": {
      "name": "python3",
      "display_name": "Python 3"
    },
    "language_info": {
      "name": "python"
    },
    "accelerator": "GPU"
  },
  "cells": [
    {
      "cell_type": "markdown",
      "metadata": {
        "id": "view-in-github",
        "colab_type": "text"
      },
      "source": [
        "<a href=\"https://colab.research.google.com/github/usman-khan-0/gittutorial/blob/main/tuples_dict_sets_lists.ipynb\" target=\"_parent\"><img src=\"https://colab.research.google.com/assets/colab-badge.svg\" alt=\"Open In Colab\"/></a>"
      ]
    },
    {
      "cell_type": "code",
      "execution_count": null,
      "metadata": {
        "colab": {
          "base_uri": "https://localhost:8080/"
        },
        "id": "c52_eQY9Bu9X",
        "outputId": "61fdb779-f6d9-4802-b0d2-f71d9d5465cd"
      },
      "outputs": [
        {
          "output_type": "stream",
          "name": "stdout",
          "text": [
            "(1, 2, 2, 3)\n",
            "2\n"
          ]
        }
      ],
      "source": [
        "my_tuple = (1, 2, 2, 3)\n",
        "print(my_tuple)\n",
        "print(my_tuple.count(2))"
      ]
    },
    {
      "cell_type": "code",
      "source": [
        "my_2nd_typle = (5, 2, 3, 1, 4, 6)\n",
        "print(my_2nd_typle)"
      ],
      "metadata": {
        "colab": {
          "base_uri": "https://localhost:8080/"
        },
        "id": "r54fkhGbCip3",
        "outputId": "7950e407-3e02-49de-edbe-638dd70fb2d4"
      },
      "execution_count": null,
      "outputs": [
        {
          "output_type": "stream",
          "name": "stdout",
          "text": [
            "(5, 2, 3, 1, 4, 6)\n"
          ]
        }
      ]
    },
    {
      "cell_type": "code",
      "source": [
        "dictionary = {2 : \"value1\", 1 : \"value2\"}\n",
        "print(dictionary)"
      ],
      "metadata": {
        "colab": {
          "base_uri": "https://localhost:8080/"
        },
        "id": "3F0Lv9n_OcXe",
        "outputId": "e34eef47-aa51-4c3d-c5bc-a109b349d32e"
      },
      "execution_count": null,
      "outputs": [
        {
          "output_type": "stream",
          "name": "stdout",
          "text": [
            "{2: 'value1', 1: 'value2'}\n"
          ]
        }
      ]
    },
    {
      "cell_type": "code",
      "source": [
        "def simple_generator():\n",
        "    yield 1\n",
        "    yield 2\n",
        "    yield 3\n",
        "\n",
        "# Using the generator\n",
        "for value in simple_generator():\n",
        "    print(value)"
      ],
      "metadata": {
        "colab": {
          "base_uri": "https://localhost:8080/"
        },
        "id": "bGFuiFfsOytR",
        "outputId": "4b3a7841-9684-4174-e10d-366ce3b4f350"
      },
      "execution_count": null,
      "outputs": [
        {
          "output_type": "stream",
          "name": "stdout",
          "text": [
            "1\n"
          ]
        }
      ]
    },
    {
      "cell_type": "code",
      "source": [
        "def fibonacci(n):\n",
        "    a, b = 0, 1\n",
        "    for _ in range(n):\n",
        "        yield a\n",
        "        a, b = b, a + b\n",
        "\n",
        "# Using the generator\n",
        "for num in fibonacci(5):\n",
        "    print(num)  # Output: 0, 1, 1, 2, 3 (one per line)"
      ],
      "metadata": {
        "colab": {
          "base_uri": "https://localhost:8080/"
        },
        "id": "3dZA5n5UcTh4",
        "outputId": "7d4709ac-1f29-4c86-8691-67b642bfdec2"
      },
      "execution_count": null,
      "outputs": [
        {
          "output_type": "stream",
          "name": "stdout",
          "text": [
            "0\n",
            "1\n",
            "1\n",
            "2\n",
            "3\n"
          ]
        }
      ]
    },
    {
      "cell_type": "code",
      "source": [
        "fruits = ['apple', 'banana', 'grapes']\n",
        "fruits.extend([['melon', 'mango', 'peach', 'watermelon']])\n",
        "print(fruits)"
      ],
      "metadata": {
        "id": "pYvL_YKheBup",
        "colab": {
          "base_uri": "https://localhost:8080/"
        },
        "outputId": "ea7b1c1b-33a3-4cfc-a0d5-c7e331f517b5"
      },
      "execution_count": null,
      "outputs": [
        {
          "output_type": "stream",
          "name": "stdout",
          "text": [
            "['apple', 'banana', 'grapes', ['melon', 'mango', 'peach', 'watermelon']]\n"
          ]
        }
      ]
    },
    {
      "cell_type": "code",
      "source": [
        "flag = True\n",
        "favfood = []\n",
        "while flag:\n",
        "  user_input = input(\"Enter your favourite food: \")\n",
        "  if user_input == \"quit\":\n",
        "    flag = False\n",
        "  else:\n",
        "    favfood.append(user_input)\n",
        "print(favfood)"
      ],
      "metadata": {
        "id": "fU0m75374LvJ",
        "colab": {
          "base_uri": "https://localhost:8080/"
        },
        "outputId": "e57087eb-e321-432c-81ac-a73847ed093d"
      },
      "execution_count": null,
      "outputs": [
        {
          "output_type": "stream",
          "name": "stdout",
          "text": [
            "Enter your favourite food: Biryani\n",
            "Enter your favourite food: Nehari\n",
            "Enter your favourite food: Icecream\n",
            "Enter your favourite food: quit\n",
            "['Biryani', 'Nehari', 'Icecream']\n"
          ]
        }
      ]
    },
    {
      "cell_type": "code",
      "source": [
        "class Car():\n",
        "    def __init__(self, make, model, year):\n",
        "        self.make = make\n",
        "        self.model = model\n",
        "        self.year = year\n",
        "    def decription_car(self):\n",
        "        print(f\"The make of car is {self.make}\")\n",
        "        print(f\"The model of car is {self.model}\")\n",
        "        print(f\"The year of car is {self.year}\")\n",
        "    def move1(self):\n",
        "        print(f\"{self.make} is moving with speed\")\n",
        "    def applying_break(self):\n",
        "        print(f\"{self.model} has applied the break\")"
      ],
      "metadata": {
        "id": "p1r5HwcMGeAf"
      },
      "execution_count": null,
      "outputs": []
    },
    {
      "cell_type": "code",
      "source": [
        "car1 = Car('toyota', 'corolla', 2015)\n",
        "car2 = Car('suzuki', 'mehran', 2019)"
      ],
      "metadata": {
        "id": "19zLqOhfQh8m"
      },
      "execution_count": null,
      "outputs": []
    },
    {
      "cell_type": "code",
      "source": [
        "car1.decription_car()"
      ],
      "metadata": {
        "colab": {
          "base_uri": "https://localhost:8080/"
        },
        "id": "5NPanyhVQzss",
        "outputId": "382d1c56-0ed8-46d7-cc43-a430c57c988b"
      },
      "execution_count": null,
      "outputs": [
        {
          "output_type": "stream",
          "name": "stdout",
          "text": [
            "The make of car is toyota\n",
            "The model of car is corolla\n",
            "The year of car is 2015\n"
          ]
        }
      ]
    },
    {
      "cell_type": "code",
      "source": [
        "car2.decription_car()\n",
        "car2.applying_break()"
      ],
      "metadata": {
        "colab": {
          "base_uri": "https://localhost:8080/"
        },
        "id": "x1ZzoaZ0Q4P2",
        "outputId": "1a599912-a5b4-4ce0-dcaf-deffb9260719"
      },
      "execution_count": null,
      "outputs": [
        {
          "output_type": "stream",
          "name": "stdout",
          "text": [
            "The make of car is suzuki\n",
            "The model of car is mehran\n",
            "The year of car is 2019\n",
            "mehran has applied the break\n"
          ]
        }
      ]
    },
    {
      "cell_type": "code",
      "source": [
        "car1.move1()"
      ],
      "metadata": {
        "colab": {
          "base_uri": "https://localhost:8080/"
        },
        "id": "ZNqYPl5BRDS4",
        "outputId": "a4d46b7d-2d6a-4b2d-a14d-1f0f6d4bc0a8"
      },
      "execution_count": null,
      "outputs": [
        {
          "output_type": "stream",
          "name": "stdout",
          "text": [
            "toyota is moving with speed\n"
          ]
        }
      ]
    },
    {
      "cell_type": "code",
      "source": [
        "class Car():\n",
        "    def __init__(self, make, model, year):\n",
        "        self.make = make\n",
        "        self.model = model\n",
        "        self.year = year\n",
        "        self.battery = '200 amp'\n",
        "    def description_car(self):\n",
        "        print(f\"The make of car is {self.make}\")\n",
        "        print(f\"The model of car is {self.model}\")\n",
        "        print(f\"The year of car is {self.year}\")\n",
        "    def move1(self):\n",
        "        print(f\"{self.make} is moving with speed\")\n",
        "    def applying_break(self):\n",
        "        print(f\"{self.model} has applied the break\")\n",
        "    def get_battery(self):\n",
        "        print(f\"The battery of car is {self.battery}\")\n",
        "\n",
        "\n",
        "a = input(\"Enter the make of car: \")\n",
        "b = input(\"Enter the model of car: \")\n",
        "c = input(\"Enter the year of car: \")\n",
        "car3 = Car(a, b, c)\n",
        "car3.description_car()"
      ],
      "metadata": {
        "colab": {
          "base_uri": "https://localhost:8080/"
        },
        "id": "lWAbjXrrRIae",
        "outputId": "4423fb18-06d5-42c9-96c0-a4f3d568fb67"
      },
      "execution_count": null,
      "outputs": [
        {
          "output_type": "stream",
          "name": "stdout",
          "text": [
            "Enter the make of car: Honda\n",
            "Enter the model of car: Civic\n",
            "Enter the year of car: 2025\n",
            "The make of car is Honda\n",
            "The model of car is Civic\n",
            "The year of car is 2025\n"
          ]
        }
      ]
    },
    {
      "cell_type": "code",
      "source": [
        "car3.battery"
      ],
      "metadata": {
        "colab": {
          "base_uri": "https://localhost:8080/",
          "height": 35
        },
        "id": "sBjs3nfYG_Ef",
        "outputId": "313a3eb7-a0e5-483a-e550-35fc58cca8fd"
      },
      "execution_count": null,
      "outputs": [
        {
          "output_type": "execute_result",
          "data": {
            "text/plain": [
              "'200 amp'"
            ],
            "application/vnd.google.colaboratory.intrinsic+json": {
              "type": "string"
            }
          },
          "metadata": {},
          "execution_count": 7
        }
      ]
    },
    {
      "cell_type": "code",
      "source": [
        "import tensorflow as tf\n",
        "print(\"Num GPUs Available: \", len(tf.config.experimental.list_physical_devices('GPU')))"
      ],
      "metadata": {
        "colab": {
          "base_uri": "https://localhost:8080/"
        },
        "id": "NBimSaZVJDBZ",
        "outputId": "8c73ca67-7a6b-49c8-a7eb-ecd3b322afb8"
      },
      "execution_count": null,
      "outputs": [
        {
          "output_type": "stream",
          "name": "stdout",
          "text": [
            "Num GPUs Available:  1\n"
          ]
        }
      ]
    },
    {
      "cell_type": "code",
      "source": [
        "def pizzaOrder(size, flavor, *toppings):\n",
        "  print(f\"your order for pizza of size {size}, and flavor {flavor}, with toppings {toppings}, is ready\")\n",
        "\n",
        "pizzaOrder(16, 'chiken tikka', 'olives', 'Fuits', 'abcd'*20, 'xyz'*10)"
      ],
      "metadata": {
        "id": "uABnGd3yPG9X",
        "colab": {
          "base_uri": "https://localhost:8080/"
        },
        "outputId": "48b8b52a-bc9e-4f45-9f3a-bae1aae74ded"
      },
      "execution_count": 10,
      "outputs": [
        {
          "output_type": "stream",
          "name": "stdout",
          "text": [
            "your order for pizza of size 16, and flavor chiken tikka, with toppings ('olives', 'Fuits', 'abcdabcdabcdabcdabcdabcdabcdabcdabcdabcdabcdabcdabcdabcdabcdabcdabcdabcdabcdabcd', 'xyzxyzxyzxyzxyzxyzxyzxyzxyzxyz'), is ready\n"
          ]
        }
      ]
    },
    {
      "cell_type": "code",
      "source": [
        "def add(val1, val2):\n",
        "   ans = val1 + val2\n",
        "   print(\"The answer is:\", ans)\n",
        "   return ans, \"Hello Function\"\n",
        "\n",
        "result = add(5, 10)\n",
        "print(\"The value in the result is: \", result)"
      ],
      "metadata": {
        "colab": {
          "base_uri": "https://localhost:8080/"
        },
        "id": "te5QE2JEVQA7",
        "outputId": "363173e0-05c8-4f29-9894-1066a505d1da"
      },
      "execution_count": 18,
      "outputs": [
        {
          "output_type": "stream",
          "name": "stdout",
          "text": [
            "The answer is: 15\n",
            "The value in the result is:  (15, 'Hello Function')\n"
          ]
        }
      ]
    },
    {
      "cell_type": "code",
      "source": [
        "def add(a, b):\n",
        "  return a + b\n",
        "\n",
        "def sub(b, a):\n",
        "  return a - b\n",
        "\n",
        "result = add(4, 5) + sub(7, 5)\n",
        "print(f\"The result is: {result}\")"
      ],
      "metadata": {
        "colab": {
          "base_uri": "https://localhost:8080/"
        },
        "id": "e7jk9lwXXhnc",
        "outputId": "993f6148-d9d4-4955-a324-40831e235352"
      },
      "execution_count": 21,
      "outputs": [
        {
          "output_type": "stream",
          "name": "stdout",
          "text": [
            "The result is: 7\n"
          ]
        }
      ]
    },
    {
      "cell_type": "code",
      "source": [
        "def beHappy():\n",
        "   name = \"Mr.Usman Bey\"\n",
        "   print(f\"{name} is very happy today\")\n",
        "beHappy()"
      ],
      "metadata": {
        "colab": {
          "base_uri": "https://localhost:8080/"
        },
        "id": "VH_ZFt3gaM2E",
        "outputId": "02cad814-e75c-465d-9c87-e2fe1f1db465"
      },
      "execution_count": 24,
      "outputs": [
        {
          "output_type": "stream",
          "name": "stdout",
          "text": [
            "Mr.Usman Bey is very happy today\n"
          ]
        }
      ]
    },
    {
      "cell_type": "code",
      "source": [
        "anotherName = \"Bala\"\n",
        "\n",
        "def sad():\n",
        "  print(f\"{anotherName} is very sad today\")\n",
        "\n",
        "sad()"
      ],
      "metadata": {
        "colab": {
          "base_uri": "https://localhost:8080/"
        },
        "id": "BC_j7Hbsbnc7",
        "outputId": "81ad44af-f3e1-465b-cb8c-8dff16e77d84"
      },
      "execution_count": 25,
      "outputs": [
        {
          "output_type": "stream",
          "name": "stdout",
          "text": [
            "Bala is very sad today\n"
          ]
        }
      ]
    },
    {
      "cell_type": "code",
      "source": [
        "def commisionCal(sales):\n",
        "  if sales > 100:\n",
        "    return sales*100\n",
        "  elif sales > 50:\n",
        "    return sales*50\n",
        "  elif sales > 20:\n",
        "    return sales*20\n",
        "  else:\n",
        "    return 0\n",
        "\n",
        "def salaryCal(basic, sales):\n",
        "  grossSalary = basic + commisionCal(sales)\n",
        "  print(f\"Your grossSalary is {grossSalary}\")\n",
        "\n",
        "salaryCal(50000, 150)"
      ],
      "metadata": {
        "colab": {
          "base_uri": "https://localhost:8080/"
        },
        "id": "-4psFB4gclNr",
        "outputId": "ed85b23e-7fe9-4e9b-9d79-4ac0c13ccc79"
      },
      "execution_count": 27,
      "outputs": [
        {
          "output_type": "stream",
          "name": "stdout",
          "text": [
            "Your grossSalary is 65000\n"
          ]
        }
      ]
    },
    {
      "cell_type": "code",
      "source": [
        "for a in range(5):\n",
        "  print(\"The Inner loop begins!!\")\n",
        "  for char in \"China\":\n",
        "    print(f\"The value a: {a}, and char: {char}\")\n",
        "  print(\"The inner loop ends!!\")"
      ],
      "metadata": {
        "colab": {
          "base_uri": "https://localhost:8080/"
        },
        "id": "ugFrFV2nf1J5",
        "outputId": "5adda14f-7c1b-40f7-c44b-a288313fb517"
      },
      "execution_count": 28,
      "outputs": [
        {
          "output_type": "stream",
          "name": "stdout",
          "text": [
            "The Inner loop begins!!\n",
            "The value a: 0, and char: C\n",
            "The value a: 0, and char: h\n",
            "The value a: 0, and char: i\n",
            "The value a: 0, and char: n\n",
            "The value a: 0, and char: a\n",
            "The inner loop ends!!\n",
            "The Inner loop begins!!\n",
            "The value a: 1, and char: C\n",
            "The value a: 1, and char: h\n",
            "The value a: 1, and char: i\n",
            "The value a: 1, and char: n\n",
            "The value a: 1, and char: a\n",
            "The inner loop ends!!\n",
            "The Inner loop begins!!\n",
            "The value a: 2, and char: C\n",
            "The value a: 2, and char: h\n",
            "The value a: 2, and char: i\n",
            "The value a: 2, and char: n\n",
            "The value a: 2, and char: a\n",
            "The inner loop ends!!\n",
            "The Inner loop begins!!\n",
            "The value a: 3, and char: C\n",
            "The value a: 3, and char: h\n",
            "The value a: 3, and char: i\n",
            "The value a: 3, and char: n\n",
            "The value a: 3, and char: a\n",
            "The inner loop ends!!\n",
            "The Inner loop begins!!\n",
            "The value a: 4, and char: C\n",
            "The value a: 4, and char: h\n",
            "The value a: 4, and char: i\n",
            "The value a: 4, and char: n\n",
            "The value a: 4, and char: a\n",
            "The inner loop ends!!\n"
          ]
        }
      ]
    },
    {
      "cell_type": "code",
      "source": [
        "for a in range(2, 11):\n",
        "  print(f\"The table of {a} is: \")\n",
        "  for b in range(1, 11):\n",
        "    print(f\"{a} x {b} = {a*b}\")"
      ],
      "metadata": {
        "colab": {
          "base_uri": "https://localhost:8080/"
        },
        "id": "66cM_RQ4i-hh",
        "outputId": "cd3b035d-b72f-410b-b923-df501de6f2cd"
      },
      "execution_count": 36,
      "outputs": [
        {
          "output_type": "stream",
          "name": "stdout",
          "text": [
            "The table of 2 is: \n",
            "2 x 1 = 2\n",
            "2 x 2 = 4\n",
            "2 x 3 = 6\n",
            "2 x 4 = 8\n",
            "2 x 5 = 10\n",
            "2 x 6 = 12\n",
            "2 x 7 = 14\n",
            "2 x 8 = 16\n",
            "2 x 9 = 18\n",
            "2 x 10 = 20\n",
            "The table of 3 is: \n",
            "3 x 1 = 3\n",
            "3 x 2 = 6\n",
            "3 x 3 = 9\n",
            "3 x 4 = 12\n",
            "3 x 5 = 15\n",
            "3 x 6 = 18\n",
            "3 x 7 = 21\n",
            "3 x 8 = 24\n",
            "3 x 9 = 27\n",
            "3 x 10 = 30\n",
            "The table of 4 is: \n",
            "4 x 1 = 4\n",
            "4 x 2 = 8\n",
            "4 x 3 = 12\n",
            "4 x 4 = 16\n",
            "4 x 5 = 20\n",
            "4 x 6 = 24\n",
            "4 x 7 = 28\n",
            "4 x 8 = 32\n",
            "4 x 9 = 36\n",
            "4 x 10 = 40\n",
            "The table of 5 is: \n",
            "5 x 1 = 5\n",
            "5 x 2 = 10\n",
            "5 x 3 = 15\n",
            "5 x 4 = 20\n",
            "5 x 5 = 25\n",
            "5 x 6 = 30\n",
            "5 x 7 = 35\n",
            "5 x 8 = 40\n",
            "5 x 9 = 45\n",
            "5 x 10 = 50\n",
            "The table of 6 is: \n",
            "6 x 1 = 6\n",
            "6 x 2 = 12\n",
            "6 x 3 = 18\n",
            "6 x 4 = 24\n",
            "6 x 5 = 30\n",
            "6 x 6 = 36\n",
            "6 x 7 = 42\n",
            "6 x 8 = 48\n",
            "6 x 9 = 54\n",
            "6 x 10 = 60\n",
            "The table of 7 is: \n",
            "7 x 1 = 7\n",
            "7 x 2 = 14\n",
            "7 x 3 = 21\n",
            "7 x 4 = 28\n",
            "7 x 5 = 35\n",
            "7 x 6 = 42\n",
            "7 x 7 = 49\n",
            "7 x 8 = 56\n",
            "7 x 9 = 63\n",
            "7 x 10 = 70\n",
            "The table of 8 is: \n",
            "8 x 1 = 8\n",
            "8 x 2 = 16\n",
            "8 x 3 = 24\n",
            "8 x 4 = 32\n",
            "8 x 5 = 40\n",
            "8 x 6 = 48\n",
            "8 x 7 = 56\n",
            "8 x 8 = 64\n",
            "8 x 9 = 72\n",
            "8 x 10 = 80\n",
            "The table of 9 is: \n",
            "9 x 1 = 9\n",
            "9 x 2 = 18\n",
            "9 x 3 = 27\n",
            "9 x 4 = 36\n",
            "9 x 5 = 45\n",
            "9 x 6 = 54\n",
            "9 x 7 = 63\n",
            "9 x 8 = 72\n",
            "9 x 9 = 81\n",
            "9 x 10 = 90\n",
            "The table of 10 is: \n",
            "10 x 1 = 10\n",
            "10 x 2 = 20\n",
            "10 x 3 = 30\n",
            "10 x 4 = 40\n",
            "10 x 5 = 50\n",
            "10 x 6 = 60\n",
            "10 x 7 = 70\n",
            "10 x 8 = 80\n",
            "10 x 9 = 90\n",
            "10 x 10 = 100\n"
          ]
        }
      ]
    },
    {
      "cell_type": "code",
      "source": [
        "tableNumber = int(input(\"Enter the table number: \"))\n",
        "for a in range(1, 11):\n",
        "  print(f\"{tableNumber} x {a} = {tableNumber*a}\")"
      ],
      "metadata": {
        "colab": {
          "base_uri": "https://localhost:8080/"
        },
        "id": "FYBkNj8XjvhQ",
        "outputId": "c7d91e6a-acb3-464d-97e5-f37a3db51c4f"
      },
      "execution_count": 39,
      "outputs": [
        {
          "output_type": "stream",
          "name": "stdout",
          "text": [
            "Enter the table number: 9\n",
            "9 x 1 = 9\n",
            "9 x 2 = 18\n",
            "9 x 3 = 27\n",
            "9 x 4 = 36\n",
            "9 x 5 = 45\n",
            "9 x 6 = 54\n",
            "9 x 7 = 63\n",
            "9 x 8 = 72\n",
            "9 x 9 = 81\n",
            "9 x 10 = 90\n"
          ]
        }
      ]
    },
    {
      "cell_type": "code",
      "source": [
        "table = int(input(\"Enter the table number: \"))\n",
        "for table in range(1, table+1):\n",
        "  print(f\"The table of {table} is: \")\n",
        "  for a in range(1, 11):\n",
        "    print(f\"{table} x {a} = {table*a}\")"
      ],
      "metadata": {
        "colab": {
          "base_uri": "https://localhost:8080/"
        },
        "id": "hwLVNli4lW7Y",
        "outputId": "9b894621-f429-40df-cbe7-4eabe98a9b0a"
      },
      "execution_count": 42,
      "outputs": [
        {
          "output_type": "stream",
          "name": "stdout",
          "text": [
            "Enter the table number: 9\n",
            "The table of 1 is: \n",
            "1 x 1 = 1\n",
            "1 x 2 = 2\n",
            "1 x 3 = 3\n",
            "1 x 4 = 4\n",
            "1 x 5 = 5\n",
            "1 x 6 = 6\n",
            "1 x 7 = 7\n",
            "1 x 8 = 8\n",
            "1 x 9 = 9\n",
            "1 x 10 = 10\n",
            "The table of 2 is: \n",
            "2 x 1 = 2\n",
            "2 x 2 = 4\n",
            "2 x 3 = 6\n",
            "2 x 4 = 8\n",
            "2 x 5 = 10\n",
            "2 x 6 = 12\n",
            "2 x 7 = 14\n",
            "2 x 8 = 16\n",
            "2 x 9 = 18\n",
            "2 x 10 = 20\n",
            "The table of 3 is: \n",
            "3 x 1 = 3\n",
            "3 x 2 = 6\n",
            "3 x 3 = 9\n",
            "3 x 4 = 12\n",
            "3 x 5 = 15\n",
            "3 x 6 = 18\n",
            "3 x 7 = 21\n",
            "3 x 8 = 24\n",
            "3 x 9 = 27\n",
            "3 x 10 = 30\n",
            "The table of 4 is: \n",
            "4 x 1 = 4\n",
            "4 x 2 = 8\n",
            "4 x 3 = 12\n",
            "4 x 4 = 16\n",
            "4 x 5 = 20\n",
            "4 x 6 = 24\n",
            "4 x 7 = 28\n",
            "4 x 8 = 32\n",
            "4 x 9 = 36\n",
            "4 x 10 = 40\n",
            "The table of 5 is: \n",
            "5 x 1 = 5\n",
            "5 x 2 = 10\n",
            "5 x 3 = 15\n",
            "5 x 4 = 20\n",
            "5 x 5 = 25\n",
            "5 x 6 = 30\n",
            "5 x 7 = 35\n",
            "5 x 8 = 40\n",
            "5 x 9 = 45\n",
            "5 x 10 = 50\n",
            "The table of 6 is: \n",
            "6 x 1 = 6\n",
            "6 x 2 = 12\n",
            "6 x 3 = 18\n",
            "6 x 4 = 24\n",
            "6 x 5 = 30\n",
            "6 x 6 = 36\n",
            "6 x 7 = 42\n",
            "6 x 8 = 48\n",
            "6 x 9 = 54\n",
            "6 x 10 = 60\n",
            "The table of 7 is: \n",
            "7 x 1 = 7\n",
            "7 x 2 = 14\n",
            "7 x 3 = 21\n",
            "7 x 4 = 28\n",
            "7 x 5 = 35\n",
            "7 x 6 = 42\n",
            "7 x 7 = 49\n",
            "7 x 8 = 56\n",
            "7 x 9 = 63\n",
            "7 x 10 = 70\n",
            "The table of 8 is: \n",
            "8 x 1 = 8\n",
            "8 x 2 = 16\n",
            "8 x 3 = 24\n",
            "8 x 4 = 32\n",
            "8 x 5 = 40\n",
            "8 x 6 = 48\n",
            "8 x 7 = 56\n",
            "8 x 8 = 64\n",
            "8 x 9 = 72\n",
            "8 x 10 = 80\n",
            "The table of 9 is: \n",
            "9 x 1 = 9\n",
            "9 x 2 = 18\n",
            "9 x 3 = 27\n",
            "9 x 4 = 36\n",
            "9 x 5 = 45\n",
            "9 x 6 = 54\n",
            "9 x 7 = 63\n",
            "9 x 8 = 72\n",
            "9 x 9 = 81\n",
            "9 x 10 = 90\n"
          ]
        }
      ]
    },
    {
      "cell_type": "code",
      "source": [],
      "metadata": {
        "id": "tGaWG8Pomebu"
      },
      "execution_count": null,
      "outputs": []
    }
  ]
}